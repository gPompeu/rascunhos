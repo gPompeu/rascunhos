{
 "cells": [
  {
   "cell_type": "markdown",
   "metadata": {},
   "source": [
    "# MNIST Three layer network upgraded with tanh and softmax activation function"
   ]
  },
  {
   "cell_type": "markdown",
   "metadata": {},
   "source": [
    "# Load and prepare the data"
   ]
  },
  {
   "cell_type": "code",
   "execution_count": 1,
   "metadata": {},
   "outputs": [],
   "source": [
    "import sys\n",
    "import numpy as np\n",
    "from keras.datasets import mnist\n",
    "\n",
    "#load the dataset\n",
    "(x_train, y_train), (x_test, y_test) = mnist.load_data()\n",
    "\n",
    "images, labels = (x_train[0:1000].reshape(1000, 28*28) / 255, y_train[0:1000])\n",
    "\n",
    "one_hot_labels = np.zeros((len(labels), 10))\n",
    "\n",
    "for i, l in enumerate(labels):\n",
    "    one_hot_labels[i][l] = 1\n",
    "labels = one_hot_labels\n",
    "\n",
    "test_images = x_test.reshape(len(x_test), 28*28) / 255\n",
    "test_labels = np.zeros((len(y_test), 10))\n",
    "for i, l in enumerate(y_test):\n",
    "    test_labels[i][l] = 1"
   ]
  },
  {
   "cell_type": "code",
   "execution_count": 2,
   "metadata": {},
   "outputs": [],
   "source": [
    "def tanh(x):\n",
    "    return np.tanh(x)\n",
    "def tanh2deriv(output):\n",
    "    return 1 - (output ** 2)\n",
    "def softmax(x):\n",
    "    temp = np.exp(x)\n",
    "    return temp / np.sum(temp, axis=1, keepdims=True)"
   ]
  },
  {
   "cell_type": "code",
   "execution_count": 7,
   "metadata": {},
   "outputs": [
    {
     "name": "stdout",
     "output_type": "stream",
     "text": [
      "\n",
      "I:0 Test-Acc:0.098 Train-Acc:0.264\n",
      "I:10 Test-Acc:0.1248 Train-Acc:0.101\n",
      "I:20 Test-Acc:0.0978 Train-Acc:0.108\n",
      "I:30 Test-Acc:0.105 Train-Acc:0.098\n",
      "I:40 Test-Acc:0.0892 Train-Acc:0.11\n",
      "I:50 Test-Acc:0.1028 Train-Acc:0.091\n",
      "I:60 Test-Acc:0.1032 Train-Acc:0.102\n",
      "I:70 Test-Acc:0.1009 Train-Acc:0.106\n",
      "I:80 Test-Acc:0.0976 Train-Acc:0.096\n",
      "I:90 Test-Acc:0.1028 Train-Acc:0.101\n",
      "I:100 Test-Acc:0.1057 Train-Acc:0.091\n",
      "I:110 Test-Acc:0.0974 Train-Acc:0.118\n",
      "I:120 Test-Acc:0.0958 Train-Acc:0.093\n",
      "I:130 Test-Acc:0.114 Train-Acc:0.091\n",
      "I:140 Test-Acc:0.1028 Train-Acc:0.104\n",
      "I:150 Test-Acc:0.0962 Train-Acc:0.088\n",
      "I:160 Test-Acc:0.1135 Train-Acc:0.101\n",
      "I:170 Test-Acc:0.0892 Train-Acc:0.118\n",
      "I:180 Test-Acc:0.1031 Train-Acc:0.096\n",
      "I:190 Test-Acc:0.1135 Train-Acc:0.094\n",
      "I:200 Test-Acc:0.1028 Train-Acc:0.109\n",
      "I:210 Test-Acc:0.1028 Train-Acc:0.099\n",
      "I:220 Test-Acc:0.0892 Train-Acc:0.09\n",
      "I:230 Test-Acc:0.101 Train-Acc:0.098\n",
      "I:240 Test-Acc:0.1028 Train-Acc:0.103\n",
      "I:250 Test-Acc:0.1135 Train-Acc:0.087\n",
      "I:260 Test-Acc:0.1032 Train-Acc:0.104\n",
      "I:270 Test-Acc:0.1006 Train-Acc:0.095\n",
      "I:280 Test-Acc:0.0892 Train-Acc:0.117\n",
      "I:290 Test-Acc:0.098 Train-Acc:0.094"
     ]
    }
   ],
   "source": [
    "alpha, iterations, hidden_size = (2, 300, 100)\n",
    "pixels_per_image, num_labels = (784, 10)\n",
    "batch_size = 100\n",
    "\n",
    "weights_0_1 = 0.02 * np.random.random((pixels_per_image, hidden_size)) - 0.01\n",
    "weights_1_2 = 0.02 * np.random.random((hidden_size, num_labels)) - 0.01\n",
    "\n",
    "for j in range(iterations):\n",
    "    correct_cnt = 0\n",
    "    for i in range(int(len(images) / batch_size)):\n",
    "        batch_start, batch_end = ((i * batch_size), ((i + 1) * batch_size))\n",
    "        layer_0 = images[batch_start:batch_end]\n",
    "        layer_1 = tanh(np.dot(layer_0, weights_0_1))\n",
    "        dropout_mask = np.random.randint(2, size = layer_1.shape)\n",
    "        layer_1 *= dropout_mask * 2\n",
    "        layer_2 = softmax(np.dot(layer_1, weights_1_2))\n",
    "        \n",
    "        for k in range(batch_size):\n",
    "            correct_cnt += int(np.argmax(layer_2[k:k+1]) == \\\n",
    "                              np.argmax(labels[batch_start+k:batch_start+k+1]))\n",
    "            \n",
    "            layer_2_delta = (labels[batch_start:batch_end] - layer_2) \\\n",
    "            / (batch_size * layer_2.shape[0])\n",
    "            \n",
    "            layer_1_delta = layer_2_delta.dot(weights_1_2.T) \\\n",
    "            * tanh2deriv(layer_1)\n",
    "            \n",
    "            layer_1_delta *= dropout_mask\n",
    "            \n",
    "            weights_1_2 += alpha * layer_1.T.dot(layer_2_delta)\n",
    "            weights_0_1 += alpha * layer_0.T.dot(layer_1_delta)\n",
    "        test_correct_cnt = 0\n",
    "        \n",
    "    for i in range(len(test_images)):\n",
    "        layer_0 = test_images[i:i+1]\n",
    "        layer_1 = tanh(np.dot(layer_0, weights_0_1))\n",
    "        layer_2 = np.dot(layer_1, weights_1_2)\n",
    "        test_correct_cnt += int(np.argmax(layer_2) == \\\n",
    "                               np.argmax(test_labels[i:i+1]))\n",
    "\n",
    "    if(j % 10 == 0):\n",
    "        sys.stdout.write(\"\\n\" + \"I:\" + str(j) + \\\n",
    "                        \" Test-Acc:\" + str(test_correct_cnt/float(len(test_images))) + \\\n",
    "                        \" Train-Acc:\" + str(correct_cnt/float(len(images))))"
   ]
  }
 ],
 "metadata": {
  "kernelspec": {
   "display_name": "Python 3",
   "language": "python",
   "name": "python3"
  },
  "language_info": {
   "codemirror_mode": {
    "name": "ipython",
    "version": 3
   },
   "file_extension": ".py",
   "mimetype": "text/x-python",
   "name": "python",
   "nbconvert_exporter": "python",
   "pygments_lexer": "ipython3",
   "version": "3.8.4"
  }
 },
 "nbformat": 4,
 "nbformat_minor": 4
}
