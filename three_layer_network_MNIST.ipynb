{
 "cells": [
  {
   "cell_type": "markdown",
   "metadata": {},
   "source": [
    "# Load and prepare the data"
   ]
  },
  {
   "cell_type": "code",
   "execution_count": 1,
   "metadata": {},
   "outputs": [],
   "source": [
    "import sys\n",
    "import numpy as np\n",
    "from keras.datasets import mnist\n",
    "\n",
    "#load the dataset\n",
    "(x_train, y_train), (x_test, y_test) = mnist.load_data()\n",
    "\n",
    "images, labels = (x_train[0:1000].reshape(1000, 28*28) / 255, y_train[0:1000])\n",
    "\n",
    "one_hot_labels = np.zeros((len(labels), 10))\n",
    "\n",
    "for i, l in enumerate(labels):\n",
    "    one_hot_labels[i][l] = 1\n",
    "labels = one_hot_labels\n",
    "\n",
    "test_images = x_test.reshape(len(x_test), 28*28) / 255\n",
    "test_labels = np.zeros((len(y_test), 10))\n",
    "for i, l in enumerate(y_test):\n",
    "    test_labels[i][l] = 1"
   ]
  },
  {
   "cell_type": "code",
   "execution_count": 3,
   "metadata": {},
   "outputs": [],
   "source": [
    "np.random.seed(1)\n",
    "relu = lambda x:(x>=0) * x\n",
    "relu2deriv = lambda x: x>=0"
   ]
  },
  {
   "cell_type": "markdown",
   "metadata": {},
   "source": [
    "# v1 - overfitted"
   ]
  },
  {
   "cell_type": "code",
   "execution_count": 10,
   "metadata": {
    "collapsed": true
   },
   "outputs": [
    {
     "name": "stdout",
     "output_type": "stream",
     "text": [
      " I: 0 Error: 0.722 Correct: 0.537 Test-Err:0.601 Test-Acc:0.6488\n",
      " I: 10 Error: 0.312 Correct: 0.901 Test-Err:0.420 Test-Acc:0.8114\n",
      " I: 20 Error: 0.260 Correct: 0.937 Test-Err:0.414 Test-Acc:0.8111\n",
      " I: 30 Error: 0.232 Correct: 0.946 Test-Err:0.417 Test-Acc:0.8066\n",
      " I: 40 Error: 0.215 Correct: 0.956 Test-Err:0.426 Test-Acc:0.8019\n",
      " I: 50 Error: 0.204 Correct: 0.966 Test-Err:0.437 Test-Acc:0.7982\n",
      " I: 60 Error: 0.194 Correct: 0.967 Test-Err:0.448 Test-Acc:0.7921\n",
      " I: 70 Error: 0.186 Correct: 0.975 Test-Err:0.458 Test-Acc:0.7864\n",
      " I: 80 Error: 0.179 Correct: 0.979 Test-Err:0.466 Test-Acc:0.7817\n",
      " I: 90 Error: 0.172 Correct: 0.981 Test-Err:0.474 Test-Acc:0.7758\n",
      " I: 100 Error: 0.166 Correct: 0.984 Test-Err:0.482 Test-Acc:0.7706\n",
      " I: 110 Error: 0.161 Correct: 0.984 Test-Err:0.489 Test-Acc:0.7686\n",
      " I: 120 Error: 0.157 Correct: 0.986 Test-Err:0.496 Test-Acc:0.766\n",
      " I: 130 Error: 0.153 Correct: 0.999 Test-Err:0.502 Test-Acc:0.7622\n",
      " I: 140 Error: 0.149 Correct: 0.991 Test-Err:0.508 Test-Acc:0.758\n",
      " I: 150 Error: 0.145 Correct: 0.991 Test-Err:0.513 Test-Acc:0.7558\n",
      " I: 160 Error: 0.141 Correct: 0.992 Test-Err:0.518 Test-Acc:0.7553\n",
      " I: 170 Error: 0.138 Correct: 0.992 Test-Err:0.524 Test-Acc:0.751\n",
      " I: 180 Error: 0.135 Correct: 0.995 Test-Err:0.528 Test-Acc:0.7505\n",
      " I: 190 Error: 0.132 Correct: 0.995 Test-Err:0.533 Test-Acc:0.7482\n",
      " I: 200 Error: 0.130 Correct: 0.998 Test-Err:0.538 Test-Acc:0.7464\n",
      " I: 210 Error: 0.127 Correct: 0.998 Test-Err:0.544 Test-Acc:0.7446\n",
      " I: 220 Error: 0.125 Correct: 0.998 Test-Err:0.552 Test-Acc:0.7416\n",
      " I: 230 Error: 0.123 Correct: 0.998 Test-Err:0.560 Test-Acc:0.7372\n",
      " I: 240 Error: 0.121 Correct: 0.998 Test-Err:0.569 Test-Acc:0.7344\n",
      " I: 250 Error: 0.120 Correct: 0.999 Test-Err:0.577 Test-Acc:0.7316\n",
      " I: 260 Error: 0.118 Correct: 0.999 Test-Err:0.585 Test-Acc:0.729\n",
      " I: 270 Error: 0.117 Correct: 0.999 Test-Err:0.593 Test-Acc:0.7259\n",
      " I: 280 Error: 0.115 Correct: 0.999 Test-Err:0.600 Test-Acc:0.723\n",
      " I: 290 Error: 0.114 Correct: 0.999 Test-Err:0.607 Test-Acc:0.7196\n",
      " I: 300 Error: 0.113 Correct: 0.999 Test-Err:0.614 Test-Acc:0.7183\n",
      " I: 310 Error: 0.112 Correct: 0.999 Test-Err:0.622 Test-Acc:0.7165\n",
      " I: 320 Error: 0.111 Correct: 0.999 Test-Err:0.629 Test-Acc:0.7133\n",
      " I: 330 Error: 0.110 Correct: 0.999 Test-Err:0.637 Test-Acc:0.7125\n",
      " I: 340 Error: 0.109 Correct: 1.099 Test-Err:0.645 Test-Acc:0.71\n",
      " I: 349 Error: 0.108 Correct: 1.0 Test-Err:0.653 Test-Acc:0.7073\n"
     ]
    }
   ],
   "source": [
    "alpha, iterations, hidden_size, pixels_per_image, num_labels = (0.005, 350, 40, 784, 10)\n",
    "weights_0_1 = 0.2*np.random.random((pixels_per_image, hidden_size)) - 0.1\n",
    "weights_1_2 = 0.2*np.random.random((hidden_size, num_labels)) - 0.1\n",
    "\n",
    "#Training\n",
    "for j in range(iterations):\n",
    "    error, correct_cnt = (0.0, 0)\n",
    "    \n",
    "    for i in range(len(images)):\n",
    "        layer_0 = images[i:i+1]\n",
    "        layer_1 = relu(np.dot(layer_0, weights_0_1))\n",
    "        layer_2 = np.dot(layer_1, weights_1_2)\n",
    "        \n",
    "        error += np.sum((labels[i:i+1] - layer_2) ** 2)\n",
    "        correct_cnt += int(np.argmax(layer_2) == np.argmax(labels[i:i+1]))\n",
    "        \n",
    "        layer_2_delta = (labels[i:i+1] - layer_2)\n",
    "        layer_1_delta = layer_2_delta.dot(weights_1_2.T) * relu2deriv(layer_1)\n",
    "        weights_1_2 += alpha * layer_1.T.dot(layer_2_delta)\n",
    "        weights_0_1 += alpha * layer_0.T.dot(layer_1_delta)\n",
    "        \n",
    "    sys.stdout.write(\"\\r\" + \\\n",
    "                    \" I: \" + str(j) + \\\n",
    "                    \" Error: \" + str(error/float(len(images))) [0:5] + \\\n",
    "                    \" Correct: \" + str(correct_cnt/float(len(images)))\n",
    "                    )\n",
    "    \n",
    "    #Testing\n",
    "    if(j % 10 == 0 or j == iterations-1):\n",
    "        error, correct_cnt = (0.0, 0)\n",
    "\n",
    "        for i in range(len(test_images)):\n",
    "\n",
    "            layer_0 = test_images[i:i+1]\n",
    "            layer_1 = relu(np.dot(layer_0, weights_0_1))\n",
    "            layer_2 = np.dot(layer_1, weights_1_2)\n",
    "\n",
    "            error += np.sum((test_labels[i:i+1] - layer_2) ** 2)\n",
    "            correct_cnt += int(np.argmax(layer_2) == np.argmax(test_labels[i:i+1]))\n",
    "        sys.stdout.write(\" Test-Err:\" + str(error/float(len(test_images)))[0:5] + \\\n",
    "                        \" Test-Acc:\" + str(correct_cnt/float(len(test_images))))\n",
    "        print()"
   ]
  },
  {
   "cell_type": "markdown",
   "metadata": {},
   "source": [
    "# v2 - Applying dropout"
   ]
  },
  {
   "cell_type": "code",
   "execution_count": 5,
   "metadata": {
    "scrolled": false
   },
   "outputs": [
    {
     "name": "stdout",
     "output_type": "stream",
     "text": [
      "\n",
      "I:0 Test-Err:0.6562969375047616 Test-Acc:0.6291 Train-Err:0.897 Train-Acc:0.401\n",
      "I:10 Test-Err:0.44211270075128084 Test-Acc:0.7917 Train-Err:0.455 Train-Acc:0.785\n",
      "I:20 Test-Err:0.41269537680003604 Test-Acc:0.8081 Train-Err:0.421 Train-Acc:0.819\n",
      "I:30 Test-Err:0.4145106330998193 Test-Acc:0.8167 Train-Err:0.411 Train-Acc:0.839\n",
      "I:40 Test-Err:0.41634566218836216 Test-Acc:0.8175 Train-Err:0.405 Train-Acc:0.814\n",
      "I:50 Test-Err:0.40660989183431623 Test-Acc:0.8177 Train-Err:0.385 Train-Acc:0.849\n",
      "I:60 Test-Err:0.4096084249782355 Test-Acc:0.8247 Train-Err:0.383 Train-Acc:0.853\n",
      "I:70 Test-Err:0.4091331823770737 Test-Acc:0.8227 Train-Err:0.385 Train-Acc:0.855\n",
      "I:80 Test-Err:0.4169613541871479 Test-Acc:0.8201 Train-Err:0.374 Train-Acc:0.869\n",
      "I:90 Test-Err:0.41472911122417055 Test-Acc:0.8206 Train-Err:0.359 Train-Acc:0.882\n",
      "I:100 Test-Err:0.40989789079298233 Test-Acc:0.8193 Train-Err:0.365 Train-Acc:0.865\n",
      "I:110 Test-Err:0.40636002244136304 Test-Acc:0.8176 Train-Err:0.356 Train-Acc:0.874\n",
      "I:120 Test-Err:0.40523668992366196 Test-Acc:0.8192 Train-Err:0.367 Train-Acc:0.873\n",
      "I:130 Test-Err:0.42029274967784896 Test-Acc:0.8017 Train-Err:0.339 Train-Acc:0.883\n",
      "I:140 Test-Err:0.41439412573800116 Test-Acc:0.8007 Train-Err:0.345 Train-Acc:0.882\n",
      "I:150 Test-Err:0.3958292926513678 Test-Acc:0.8118 Train-Err:0.350 Train-Acc:0.879\n",
      "I:160 Test-Err:0.39172751203202066 Test-Acc:0.8159 Train-Err:0.340 Train-Acc:0.893\n",
      "I:170 Test-Err:0.41721000173161654 Test-Acc:0.7974 Train-Err:0.351 Train-Acc:0.887\n",
      "I:180 Test-Err:0.4098442491772957 Test-Acc:0.8058 Train-Err:0.339 Train-Acc:0.898\n",
      "I:190 Test-Err:0.4063689876631135 Test-Acc:0.8128 Train-Err:0.346 Train-Acc:0.892\n",
      "I:200 Test-Err:0.3994648318768044 Test-Acc:0.8161 Train-Err:0.338 Train-Acc:0.889\n",
      "I:210 Test-Err:0.41184785123603396 Test-Acc:0.8037 Train-Err:0.326 Train-Acc:0.893\n",
      "I:220 Test-Err:0.40401849274311924 Test-Acc:0.8105 Train-Err:0.328 Train-Acc:0.892\n",
      "I:230 Test-Err:0.4050774967263113 Test-Acc:0.8044 Train-Err:0.325 Train-Acc:0.899\n",
      "I:240 Test-Err:0.4104556920473689 Test-Acc:0.8141 Train-Err:0.337 Train-Acc:0.896\n",
      "I:250 Test-Err:0.4033555812472037 Test-Acc:0.8114 Train-Err:0.310 Train-Acc:0.911\n",
      "I:260 Test-Err:0.4088463358959399 Test-Acc:0.8044 Train-Err:0.324 Train-Acc:0.905\n",
      "I:270 Test-Err:0.40520128451798526 Test-Acc:0.8 Train-Err:0.316 Train-Acc:0.904\n",
      "I:280 Test-Err:0.41137483130317787 Test-Acc:0.8098 Train-Err:0.321 Train-Acc:0.899\n",
      "I:290 Test-Err:0.41252519863745685 Test-Acc:0.8085 Train-Err:0.329 Train-Acc:0.906"
     ]
    }
   ],
   "source": [
    "alpha, iterations, hidden_size = (0.005, 300, 100)\n",
    "pixels_per_image, num_labels = (784, 10)\n",
    "\n",
    "weights_0_1 = 0.2 * np.random.random((pixels_per_image, hidden_size)) - 0.1\n",
    "weights_1_2 = 0.2 * np.random.random((hidden_size, num_labels)) - 0.1\n",
    "\n",
    "for j in range(iterations):\n",
    "    error, correct_cnt = (0.0, 0)\n",
    "    for i in range(len(images)):\n",
    "        layer_0 = images[i:i+1]\n",
    "        layer_1 = relu(np.dot(layer_0, weights_0_1))\n",
    "        \n",
    "        dropout_mask = np.random.randint(2, size=layer_1.shape) # Initialize dropout\n",
    "        \n",
    "        layer_1 *= dropout_mask * 2 # Apply Dropout on feedfoward \n",
    "        \n",
    "        layer_2 = np.dot(layer_1, weights_1_2)\n",
    "        \n",
    "        error += np.sum((labels[i:i+1] - layer_2) ** 2)\n",
    "        \n",
    "        correct_cnt +=  int(np.argmax(layer_2) == np.argmax(labels[i:i+1]))\n",
    "        \n",
    "        layer_2_delta = (labels[i:i+1] - layer_2)\n",
    "        \n",
    "        layer_1_delta = layer_2_delta.dot(weights_1_2.T) * relu2deriv(layer_1)\n",
    "        \n",
    "        layer_1_delta *= dropout_mask # Apply dropout on backpropagation\n",
    "        \n",
    "        weights_1_2 += alpha * layer_1.T.dot(layer_2_delta)\n",
    "        weights_0_1 += alpha * layer_0.T.dot(layer_1_delta)\n",
    "        \n",
    "    if (j % 10 == 0):\n",
    "        test_error = 0.0\n",
    "        test_correct_cnt = 0\n",
    "\n",
    "        for i in range(len(test_images)):\n",
    "            layer_0 = test_images[i:i+1]\n",
    "\n",
    "            layer_1 = relu(np.dot(layer_0, weights_0_1))\n",
    "            layer_2 = np.dot(layer_1, weights_1_2)\n",
    "\n",
    "            test_error += np.sum((test_labels[i:i+1] - layer_2) ** 2)\n",
    "\n",
    "            test_correct_cnt += int(np.argmax(layer_2) == np.argmax(test_labels[i:i+1]))\n",
    "\n",
    "        sys.stdout.write(\"\\n\" + \\\n",
    "                        \"I:\" + str(j) + \\\n",
    "                         \" Test-Err:\" + str(test_error/ float(len(test_images))) + \\\n",
    "                         \" Test-Acc:\" + str(test_correct_cnt/ float(len(test_images))) + \\\n",
    "                         \" Train-Err:\" + str(error/ float(len(images)))[0:5] + \\\n",
    "                         \" Train-Acc:\" + str(correct_cnt/ float(len(images)))\n",
    "                        )"
   ]
  },
  {
   "cell_type": "markdown",
   "metadata": {},
   "source": [
    "# v3 - Applying batch gradient descent"
   ]
  },
  {
   "cell_type": "code",
   "execution_count": 14,
   "metadata": {},
   "outputs": [
    {
     "ename": "KeyboardInterrupt",
     "evalue": "",
     "output_type": "error",
     "traceback": [
      "\u001b[1;31m---------------------------------------------------------------------------\u001b[0m",
      "\u001b[1;31mKeyboardInterrupt\u001b[0m                         Traceback (most recent call last)",
      "\u001b[1;32m<ipython-input-14-fea4c247a634>\u001b[0m in \u001b[0;36m<module>\u001b[1;34m\u001b[0m\n\u001b[0;32m     36\u001b[0m \u001b[1;33m\u001b[0m\u001b[0m\n\u001b[0;32m     37\u001b[0m             \u001b[0mweights_1_2\u001b[0m \u001b[1;33m+=\u001b[0m \u001b[0malpha\u001b[0m \u001b[1;33m*\u001b[0m \u001b[0mlayer_1\u001b[0m\u001b[1;33m.\u001b[0m\u001b[0mT\u001b[0m\u001b[1;33m.\u001b[0m\u001b[0mdot\u001b[0m\u001b[1;33m(\u001b[0m\u001b[0mlayer_2_delta\u001b[0m\u001b[1;33m)\u001b[0m\u001b[1;33m\u001b[0m\u001b[1;33m\u001b[0m\u001b[0m\n\u001b[1;32m---> 38\u001b[1;33m             \u001b[0mweights_0_1\u001b[0m \u001b[1;33m+=\u001b[0m \u001b[0malpha\u001b[0m \u001b[1;33m*\u001b[0m \u001b[0mlayer_0\u001b[0m\u001b[1;33m.\u001b[0m\u001b[0mT\u001b[0m\u001b[1;33m.\u001b[0m\u001b[0mdot\u001b[0m\u001b[1;33m(\u001b[0m\u001b[0mlayer_1_delta\u001b[0m\u001b[1;33m)\u001b[0m\u001b[1;33m\u001b[0m\u001b[1;33m\u001b[0m\u001b[0m\n\u001b[0m\u001b[0;32m     39\u001b[0m \u001b[1;33m\u001b[0m\u001b[0m\n\u001b[0;32m     40\u001b[0m         \u001b[1;32mif\u001b[0m\u001b[1;33m(\u001b[0m\u001b[0mj\u001b[0m\u001b[1;33m%\u001b[0m\u001b[1;36m10\u001b[0m \u001b[1;33m==\u001b[0m \u001b[1;36m0\u001b[0m\u001b[1;33m)\u001b[0m\u001b[1;33m:\u001b[0m\u001b[1;33m\u001b[0m\u001b[1;33m\u001b[0m\u001b[0m\n",
      "\u001b[1;31mKeyboardInterrupt\u001b[0m: "
     ]
    }
   ],
   "source": [
    "batch_size = 100 # Define the size of the batch\n",
    "\n",
    "alpha, iterations = (0.001, 300)\n",
    "pixels_per_image, num_labels, hidden_size = (784, 10, 100)\n",
    "\n",
    "weights_0_1 = 0.2*np.random.random((pixels_per_image, hidden_size)) - 0.1\n",
    "weights_1_2 = 0.2*np.random.random((hidden_size, num_labels)) - 0.1\n",
    "\n",
    "for j in range(iterations):\n",
    "    error, correct_cnt = (0.0, 0)\n",
    "    for i in range(int(len(images) / batch_size)):\n",
    "        batch_start = (i * batch_size)\n",
    "        batch_end = ((i + 1) * batch_size)\n",
    "        \n",
    "        layer_0 = images[batch_start:batch_end]\n",
    "        \n",
    "        layer_1 = relu(np.dot(layer_0, weights_0_1))\n",
    "        \n",
    "        dropout_mask = np.random.randint(2, size = layer_1.shape)\n",
    "        \n",
    "        layer_1 *= dropout_mask * 2\n",
    "        \n",
    "        layer_2 = np.dot(layer_1, weights_1_2)\n",
    "        \n",
    "        error += np.sum((labels[batch_start:batch_end] - layer_2) ** 2)\n",
    "        \n",
    "        for k in range(batch_size):\n",
    "            correct_cnt += int(np.argmax(layer_2[k:k+1]) == \\\n",
    "                              np.argmax(labels[batch_start + k:batch_start + k + 1]))\n",
    "            \n",
    "            layer_2_delta = (labels[batch_start:batch_end] - layer_2) / batch_size\n",
    "            \n",
    "            layer_1_delta = layer_2_delta.dot(weights_1_2.T) * relu2deriv(layer_1)\n",
    "            \n",
    "            layer_1_delta *= dropout_mask\n",
    "            \n",
    "            weights_1_2 += alpha * layer_1.T.dot(layer_2_delta)\n",
    "            weights_0_1 += alpha * layer_0.T.dot(layer_1_delta)\n",
    "            \n",
    "        if(j%10 == 0):\n",
    "            test_error = 0.0\n",
    "            test_correct_cnt = 0\n",
    "            \n",
    "            for i in range(len(test_images)):\n",
    "                layer_0 = test_images[i:i+1]\n",
    "                layer_1 = relu(np.dot(layer_0, weights_0_1))\n",
    "                layer_2 = np.dot(layer_1, weights_1_2)"
   ]
  }
 ],
 "metadata": {
  "kernelspec": {
   "display_name": "Python 3",
   "language": "python",
   "name": "python3"
  },
  "language_info": {
   "codemirror_mode": {
    "name": "ipython",
    "version": 3
   },
   "file_extension": ".py",
   "mimetype": "text/x-python",
   "name": "python",
   "nbconvert_exporter": "python",
   "pygments_lexer": "ipython3",
   "version": "3.8.3"
  }
 },
 "nbformat": 4,
 "nbformat_minor": 4
}
